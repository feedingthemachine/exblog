{
 "cells": [
  {
   "cell_type": "code",
   "execution_count": 1,
   "metadata": {},
   "outputs": [],
   "source": [
    "import numpy as np\n",
    "import pandas as pd\n",
    "import matplotlib.pyplot as plt\n",
    "import seaborn as sns"
   ]
  },
  {
   "cell_type": "code",
   "execution_count": 2,
   "metadata": {},
   "outputs": [],
   "source": [
    "df = pd.read_csv('nyc-jobs.csv')"
   ]
  },
  {
   "cell_type": "code",
   "execution_count": 3,
   "metadata": {},
   "outputs": [
    {
     "name": "stdout",
     "output_type": "stream",
     "text": [
      "<class 'pandas.core.frame.DataFrame'>\n",
      "RangeIndex: 3028 entries, 0 to 3027\n",
      "Data columns (total 28 columns):\n",
      "Job ID                           3028 non-null int64\n",
      "Agency                           3028 non-null object\n",
      "Posting Type                     3028 non-null object\n",
      "# Of Positions                   3028 non-null int64\n",
      "Business Title                   3028 non-null object\n",
      "Civil Service Title              3028 non-null object\n",
      "Title Code No                    3028 non-null object\n",
      "Level                            3028 non-null object\n",
      "Job Category                     3026 non-null object\n",
      "Full-Time/Part-Time indicator    2779 non-null object\n",
      "Salary Range From                3028 non-null float64\n",
      "Salary Range To                  3028 non-null float64\n",
      "Salary Frequency                 3028 non-null object\n",
      "Work Location                    3028 non-null object\n",
      "Division/Work Unit               3028 non-null object\n",
      "Job Description                  3028 non-null object\n",
      "Minimum Qual Requirements        3016 non-null object\n",
      "Preferred Skills                 2664 non-null object\n",
      "Additional Information           1880 non-null object\n",
      "To Apply                         3027 non-null object\n",
      "Hours/Shift                      936 non-null object\n",
      "Work Location 1                  1316 non-null object\n",
      "Recruitment Contact              0 non-null float64\n",
      "Residency Requirement            3028 non-null object\n",
      "Posting Date                     3028 non-null object\n",
      "Post Until                       851 non-null object\n",
      "Posting Updated                  3028 non-null object\n",
      "Process Date                     3028 non-null object\n",
      "dtypes: float64(3), int64(2), object(23)\n",
      "memory usage: 662.5+ KB\n"
     ]
    }
   ],
   "source": [
    "df.info()"
   ]
  },
  {
   "cell_type": "code",
   "execution_count": 4,
   "metadata": {},
   "outputs": [],
   "source": [
    "df_outlier = df['Salary Range To']"
   ]
  },
  {
   "cell_type": "code",
   "execution_count": 5,
   "metadata": {},
   "outputs": [
    {
     "data": {
      "text/plain": [
       "<matplotlib.axes._subplots.AxesSubplot at 0x159132a67b8>"
      ]
     },
     "execution_count": 5,
     "metadata": {},
     "output_type": "execute_result"
    },
    {
     "data": {
      "image/png": "[encoded data removed]",
      "text/plain": [
       "<Figure size 432x288 with 1 Axes>"
      ]
     },
     "metadata": {
      "needs_background": "light"
     },
     "output_type": "display_data"
    }
   ],
   "source": [
    "sns.boxplot(df_outlier, orient='v')"
   ]
  },
  {
   "cell_type": "code",
   "execution_count": 7,
   "metadata": {},
   "outputs": [
    {
     "ename": "SyntaxError",
     "evalue": "invalid syntax (<ipython-input-7-58c960e57ba8>, line 5)",
     "output_type": "error",
     "traceback": [
      "\u001b[1;36m  File \u001b[1;32m\"<ipython-input-7-58c960e57ba8>\"\u001b[1;36m, line \u001b[1;32m5\u001b[0m\n\u001b[1;33m    sns.boxplot(x=col ,data=df , orient='v').set_title(f'Boxplot {col}',size =14)\u001b[0m\n\u001b[1;37m      ^\u001b[0m\n\u001b[1;31mSyntaxError\u001b[0m\u001b[1;31m:\u001b[0m invalid syntax\n"
     ]
    }
   ],
   "source": [
    "plt.rcParams['figure.figsize'] = (25,20)\n",
    "columns = df.iloc[:,1:]\n",
    "for i,col in enumerate(columns):\n",
    "    plt.subplot(1, len(columns,i+1)\n",
    "    sns.boxplot(x=col ,data=df , orient='v').set_title(f'Boxplot {col}',size =14)\n",
    "    if (i == len(columns)):\n",
    "        plt.show()\n",
    "    "
   ]
  },
  {
   "cell_type": "code",
   "execution_count": null,
   "metadata": {},
   "outputs": [],
   "source": []
  }
 ],
 "metadata": {
  "kernelspec": {
   "display_name": "Python 3",
   "language": "python",
   "name": "python3"
  },
  "language_info": {
   "codemirror_mode": {
    "name": "ipython",
    "version": 3
   },
   "file_extension": ".py",
   "mimetype": "text/x-python",
   "name": "python",
   "nbconvert_exporter": "python",
   "pygments_lexer": "ipython3",
   "version": "3.7.1"
  }
 },
 "nbformat": 4,
 "nbformat_minor": 2
}
